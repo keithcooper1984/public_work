{
 "cells": [
  {
   "cell_type": "markdown",
   "id": "6ee6a7a3",
   "metadata": {
    "papermill": {
     "duration": 0.019681,
     "end_time": "2022-02-21T12:18:18.228565",
     "exception": false,
     "start_time": "2022-02-21T12:18:18.208884",
     "status": "completed"
    },
    "tags": []
   },
   "source": [
    "<img src='https://cdn.pixabay.com/photo/2018/02/28/14/19/fraud-prevention-3188092_960_720.jpg' alt =\"image of computer fraud - created by Mohamed Hassan\" style='width: 800px;'>\n",
    "\n",
    "# Outlier Detection\n",
    "\n",
    "This notebook examines different outlier techniques using the Credit Card Fraud dataset to compare the performance ance time for each.\n",
    "\n",
    "#### the techiques to be considered are:\n",
    "* Elliptic Envelope (Robust Covarience)\n",
    "* One Class SVM\n",
    "* Isolation Forest\n",
    "* Local Outlier Factor\n",
    "* Autoencoding Neural Network\n",
    "\n",
    "All methods will be taken from the SciKit Learn library except for the autoencoder which will be implimented in Keras.\n",
    "\n",
    "#### More information on the methods used can be found at the following addresses.\n",
    "* https://scikit-learn.org/stable/modules/outlier_detection.html\n",
    "* https://keras.io/examples/timeseries/timeseries_anomaly_detection/\n",
    "\n",
    "In general, the structure of the notebook will be to use the five methods from SciKit Learn to establish a baseline of performance for good detection. Attempts will then be made to improve upon this using a neural network.\n",
    "\n",
    "## The Dataset\n",
    "\n",
    "This dataset is based upon real data collected in 2013. However, all of the features have been transformed so that it is not possible to tell their original data or type, with the exception of 'Time' and 'Amount'. This means that domain knowledge is not going to be a factor. \n",
    "\n",
    "The data is also labelled with 1 representing fraudulent data and 0 representing normal data. This means that it is possible to measure the effectiveness of the models created using standard methods. The dataset will be divided into Test and Train sets prior to any work being completed but the way that these are used will change depending upon the model, for instance the autoencoder will need to trained exclusively upon normal data to establish a ground truth whereas the Isolation Forest will see all of the training set."
   ]
  },
  {
   "cell_type": "code",
   "execution_count": 1,
   "id": "2a2a37f1",
   "metadata": {
    "_cell_guid": "b1076dfc-b9ad-4769-8c92-a6c4dae69d19",
    "_uuid": "8f2839f25d086af736a60e9eeb907d3b93b6e0e5",
    "execution": {
     "iopub.execute_input": "2022-02-21T12:18:18.276313Z",
     "iopub.status.busy": "2022-02-21T12:18:18.275722Z",
     "iopub.status.idle": "2022-02-21T12:18:19.345860Z",
     "shell.execute_reply": "2022-02-21T12:18:19.344978Z",
     "shell.execute_reply.started": "2022-02-21T12:06:41.129885Z"
    },
    "papermill": {
     "duration": 1.096824,
     "end_time": "2022-02-21T12:18:19.346045",
     "exception": false,
     "start_time": "2022-02-21T12:18:18.249221",
     "status": "completed"
    },
    "tags": []
   },
   "outputs": [
    {
     "name": "stdout",
     "output_type": "stream",
     "text": [
      "/kaggle/input/creditcardfraud/creditcard.csv\n"
     ]
    }
   ],
   "source": [
    "# Import libraries used in multiple areas, individual libraries for models will be imported in the corresponding section\n",
    "\n",
    "import numpy as np \n",
    "import pandas as pd\n",
    "from IPython.display import display\n",
    "from sklearn.preprocessing import StandardScaler\n",
    "\n",
    "# Stop the kaggle spam messages =-)\n",
    "import warnings\n",
    "warnings.filterwarnings(\"ignore\")\n",
    "\n",
    "import os\n",
    "for dirname, _, filenames in os.walk('/kaggle/input'):\n",
    "    for filename in filenames:\n",
    "        print(os.path.join(dirname, filename))"
   ]
  },
  {
   "cell_type": "code",
   "execution_count": 2,
   "id": "bbc5855c",
   "metadata": {
    "execution": {
     "iopub.execute_input": "2022-02-21T12:18:19.396523Z",
     "iopub.status.busy": "2022-02-21T12:18:19.392818Z",
     "iopub.status.idle": "2022-02-21T12:18:19.399615Z",
     "shell.execute_reply": "2022-02-21T12:18:19.399011Z",
     "shell.execute_reply.started": "2022-02-21T12:06:41.143902Z"
    },
    "papermill": {
     "duration": 0.03407,
     "end_time": "2022-02-21T12:18:19.399748",
     "exception": false,
     "start_time": "2022-02-21T12:18:19.365678",
     "status": "completed"
    },
    "tags": []
   },
   "outputs": [],
   "source": [
    "# This is a popular function on Kaggle that scans the dataset and changes each column into \n",
    "# the most space effective option that is suitable for the data it contains\n",
    "\n",
    "def reduce_mem_usage(df, verbose=True):\n",
    "    numerics = ['int16', 'int32', 'int64', 'float16', 'float32', 'float64']\n",
    "    start_mem = df.memory_usage().sum() / 1024**2    \n",
    "    for col in df.columns:\n",
    "        col_type = df[col].dtypes\n",
    "        if col_type in numerics:\n",
    "            c_min = df[col].min()\n",
    "            c_max = df[col].max()\n",
    "            if str(col_type)[:3] == 'int':\n",
    "                if c_min > np.iinfo(np.int8).min and c_max < np.iinfo(np.int8).max:\n",
    "                    df[col] = df[col].astype(np.int8)\n",
    "                elif c_min > np.iinfo(np.int16).min and c_max < np.iinfo(np.int16).max:\n",
    "                    df[col] = df[col].astype(np.int16)\n",
    "                elif c_min > np.iinfo(np.int32).min and c_max < np.iinfo(np.int32).max:\n",
    "                    df[col] = df[col].astype(np.int32)\n",
    "                elif c_min > np.iinfo(np.int64).min and c_max < np.iinfo(np.int64).max:\n",
    "                    df[col] = df[col].astype(np.int64)  \n",
    "            else:\n",
    "                if c_min > np.finfo(np.float16).min and c_max < np.finfo(np.float16).max:\n",
    "                    df[col] = df[col].astype(np.float16)\n",
    "                elif c_min > np.finfo(np.float32).min and c_max < np.finfo(np.float32).max:\n",
    "                    df[col] = df[col].astype(np.float32)\n",
    "                else:\n",
    "                    df[col] = df[col].astype(np.float64)    \n",
    "    end_mem = df.memory_usage().sum() / 1024**2\n",
    "    if verbose: \n",
    "        print('Mem. usage decreased to {:5.2f} Mb ({:.1f}% reduction\\n)'.format(\n",
    "            end_mem, 100 * (start_mem - end_mem) / start_mem))\n",
    "    return df"
   ]
  },
  {
   "cell_type": "code",
   "execution_count": 3,
   "id": "9dfb1723",
   "metadata": {
    "execution": {
     "iopub.execute_input": "2022-02-21T12:18:19.444034Z",
     "iopub.status.busy": "2022-02-21T12:18:19.443406Z",
     "iopub.status.idle": "2022-02-21T12:18:19.478387Z",
     "shell.execute_reply": "2022-02-21T12:18:19.478963Z",
     "shell.execute_reply.started": "2022-02-21T12:06:41.162013Z"
    },
    "papermill": {
     "duration": 0.060271,
     "end_time": "2022-02-21T12:18:19.479132",
     "exception": false,
     "start_time": "2022-02-21T12:18:19.418861",
     "status": "completed"
    },
    "tags": []
   },
   "outputs": [],
   "source": [
    "# How we are going to check the results. This will produce a report of the major socres and a nice chart for the confusion matrix.\n",
    "# By setting this as a function we can easily treat each model the same.\n",
    "import matplotlib.pyplot as plt\n",
    "from sklearn.metrics import classification_report\n",
    "from sklearn.metrics import confusion_matrix\n",
    "from sklearn.metrics import ConfusionMatrixDisplay\n",
    "\n",
    "def show_predictions(model, test_series, label_series):\n",
    "\n",
    "    predictions = model.predict(test_series)\n",
    "\n",
    "    cm = confusion_matrix(label_series, predictions)\n",
    "    print(classification_report(label_series, predictions))\n",
    "\n",
    "    disp = ConfusionMatrixDisplay(cm)\n",
    "    disp.plot()\n",
    "    plt.show()"
   ]
  },
  {
   "cell_type": "code",
   "execution_count": 4,
   "id": "4b74ff44",
   "metadata": {
    "execution": {
     "iopub.execute_input": "2022-02-21T12:18:19.521706Z",
     "iopub.status.busy": "2022-02-21T12:18:19.520751Z",
     "iopub.status.idle": "2022-02-21T12:18:25.900212Z",
     "shell.execute_reply": "2022-02-21T12:18:25.900652Z",
     "shell.execute_reply.started": "2022-02-21T12:06:41.182834Z"
    },
    "papermill": {
     "duration": 6.401797,
     "end_time": "2022-02-21T12:18:25.900819",
     "exception": false,
     "start_time": "2022-02-21T12:18:19.499022",
     "status": "completed"
    },
    "tags": []
   },
   "outputs": [
    {
     "name": "stdout",
     "output_type": "stream",
     "text": [
      "Mem. usage decreased to 17.11 Mb (74.6% reduction\n",
      ")\n"
     ]
    },
    {
     "data": {
      "text/html": [
       "<div>\n",
       "<style scoped>\n",
       "    .dataframe tbody tr th:only-of-type {\n",
       "        vertical-align: middle;\n",
       "    }\n",
       "\n",
       "    .dataframe tbody tr th {\n",
       "        vertical-align: top;\n",
       "    }\n",
       "\n",
       "    .dataframe thead th {\n",
       "        text-align: right;\n",
       "    }\n",
       "</style>\n",
       "<table border=\"1\" class=\"dataframe\">\n",
       "  <thead>\n",
       "    <tr style=\"text-align: right;\">\n",
       "      <th></th>\n",
       "      <th>Time</th>\n",
       "      <th>V1</th>\n",
       "      <th>V2</th>\n",
       "      <th>V3</th>\n",
       "      <th>V4</th>\n",
       "      <th>V5</th>\n",
       "      <th>V6</th>\n",
       "      <th>V7</th>\n",
       "      <th>V8</th>\n",
       "      <th>V9</th>\n",
       "      <th>...</th>\n",
       "      <th>V21</th>\n",
       "      <th>V22</th>\n",
       "      <th>V23</th>\n",
       "      <th>V24</th>\n",
       "      <th>V25</th>\n",
       "      <th>V26</th>\n",
       "      <th>V27</th>\n",
       "      <th>V28</th>\n",
       "      <th>Amount</th>\n",
       "      <th>Class</th>\n",
       "    </tr>\n",
       "  </thead>\n",
       "  <tbody>\n",
       "    <tr>\n",
       "      <th>0</th>\n",
       "      <td>0.0</td>\n",
       "      <td>-1.359375</td>\n",
       "      <td>-0.072754</td>\n",
       "      <td>2.537109</td>\n",
       "      <td>1.377930</td>\n",
       "      <td>-0.338379</td>\n",
       "      <td>0.462402</td>\n",
       "      <td>0.239624</td>\n",
       "      <td>0.098694</td>\n",
       "      <td>0.363770</td>\n",
       "      <td>...</td>\n",
       "      <td>-0.018311</td>\n",
       "      <td>0.277832</td>\n",
       "      <td>-0.110474</td>\n",
       "      <td>0.066956</td>\n",
       "      <td>0.128540</td>\n",
       "      <td>-0.189087</td>\n",
       "      <td>0.133545</td>\n",
       "      <td>-0.021057</td>\n",
       "      <td>149.625000</td>\n",
       "      <td>1</td>\n",
       "    </tr>\n",
       "    <tr>\n",
       "      <th>1</th>\n",
       "      <td>0.0</td>\n",
       "      <td>1.191406</td>\n",
       "      <td>0.266113</td>\n",
       "      <td>0.166504</td>\n",
       "      <td>0.448242</td>\n",
       "      <td>0.060028</td>\n",
       "      <td>-0.082336</td>\n",
       "      <td>-0.078796</td>\n",
       "      <td>0.085083</td>\n",
       "      <td>-0.255371</td>\n",
       "      <td>...</td>\n",
       "      <td>-0.225830</td>\n",
       "      <td>-0.638672</td>\n",
       "      <td>0.101318</td>\n",
       "      <td>-0.339844</td>\n",
       "      <td>0.167114</td>\n",
       "      <td>0.125854</td>\n",
       "      <td>-0.008980</td>\n",
       "      <td>0.014725</td>\n",
       "      <td>2.689453</td>\n",
       "      <td>1</td>\n",
       "    </tr>\n",
       "    <tr>\n",
       "      <th>2</th>\n",
       "      <td>1.0</td>\n",
       "      <td>-1.358398</td>\n",
       "      <td>-1.339844</td>\n",
       "      <td>1.773438</td>\n",
       "      <td>0.379883</td>\n",
       "      <td>-0.503418</td>\n",
       "      <td>1.800781</td>\n",
       "      <td>0.791504</td>\n",
       "      <td>0.247681</td>\n",
       "      <td>-1.514648</td>\n",
       "      <td>...</td>\n",
       "      <td>0.248047</td>\n",
       "      <td>0.771484</td>\n",
       "      <td>0.909180</td>\n",
       "      <td>-0.689453</td>\n",
       "      <td>-0.327637</td>\n",
       "      <td>-0.139038</td>\n",
       "      <td>-0.055359</td>\n",
       "      <td>-0.059753</td>\n",
       "      <td>378.750000</td>\n",
       "      <td>1</td>\n",
       "    </tr>\n",
       "    <tr>\n",
       "      <th>3</th>\n",
       "      <td>1.0</td>\n",
       "      <td>-0.966309</td>\n",
       "      <td>-0.185181</td>\n",
       "      <td>1.792969</td>\n",
       "      <td>-0.863281</td>\n",
       "      <td>-0.010307</td>\n",
       "      <td>1.247070</td>\n",
       "      <td>0.237549</td>\n",
       "      <td>0.377441</td>\n",
       "      <td>-1.386719</td>\n",
       "      <td>...</td>\n",
       "      <td>-0.108276</td>\n",
       "      <td>0.005272</td>\n",
       "      <td>-0.190308</td>\n",
       "      <td>-1.175781</td>\n",
       "      <td>0.647461</td>\n",
       "      <td>-0.221924</td>\n",
       "      <td>0.062744</td>\n",
       "      <td>0.061462</td>\n",
       "      <td>123.500000</td>\n",
       "      <td>1</td>\n",
       "    </tr>\n",
       "    <tr>\n",
       "      <th>4</th>\n",
       "      <td>2.0</td>\n",
       "      <td>-1.158203</td>\n",
       "      <td>0.877930</td>\n",
       "      <td>1.548828</td>\n",
       "      <td>0.403076</td>\n",
       "      <td>-0.407227</td>\n",
       "      <td>0.095947</td>\n",
       "      <td>0.592773</td>\n",
       "      <td>-0.270508</td>\n",
       "      <td>0.817871</td>\n",
       "      <td>...</td>\n",
       "      <td>-0.009430</td>\n",
       "      <td>0.798340</td>\n",
       "      <td>-0.137451</td>\n",
       "      <td>0.141235</td>\n",
       "      <td>-0.206055</td>\n",
       "      <td>0.502441</td>\n",
       "      <td>0.219482</td>\n",
       "      <td>0.215210</td>\n",
       "      <td>70.000000</td>\n",
       "      <td>1</td>\n",
       "    </tr>\n",
       "  </tbody>\n",
       "</table>\n",
       "<p>5 rows × 31 columns</p>\n",
       "</div>"
      ],
      "text/plain": [
       "   Time        V1        V2        V3        V4        V5        V6        V7  \\\n",
       "0   0.0 -1.359375 -0.072754  2.537109  1.377930 -0.338379  0.462402  0.239624   \n",
       "1   0.0  1.191406  0.266113  0.166504  0.448242  0.060028 -0.082336 -0.078796   \n",
       "2   1.0 -1.358398 -1.339844  1.773438  0.379883 -0.503418  1.800781  0.791504   \n",
       "3   1.0 -0.966309 -0.185181  1.792969 -0.863281 -0.010307  1.247070  0.237549   \n",
       "4   2.0 -1.158203  0.877930  1.548828  0.403076 -0.407227  0.095947  0.592773   \n",
       "\n",
       "         V8        V9  ...       V21       V22       V23       V24       V25  \\\n",
       "0  0.098694  0.363770  ... -0.018311  0.277832 -0.110474  0.066956  0.128540   \n",
       "1  0.085083 -0.255371  ... -0.225830 -0.638672  0.101318 -0.339844  0.167114   \n",
       "2  0.247681 -1.514648  ...  0.248047  0.771484  0.909180 -0.689453 -0.327637   \n",
       "3  0.377441 -1.386719  ... -0.108276  0.005272 -0.190308 -1.175781  0.647461   \n",
       "4 -0.270508  0.817871  ... -0.009430  0.798340 -0.137451  0.141235 -0.206055   \n",
       "\n",
       "        V26       V27       V28      Amount  Class  \n",
       "0 -0.189087  0.133545 -0.021057  149.625000      1  \n",
       "1  0.125854 -0.008980  0.014725    2.689453      1  \n",
       "2 -0.139038 -0.055359 -0.059753  378.750000      1  \n",
       "3 -0.221924  0.062744  0.061462  123.500000      1  \n",
       "4  0.502441  0.219482  0.215210   70.000000      1  \n",
       "\n",
       "[5 rows x 31 columns]"
      ]
     },
     "metadata": {},
     "output_type": "display_data"
    },
    {
     "name": "stdout",
     "output_type": "stream",
     "text": [
      "<class 'pandas.core.frame.DataFrame'>\n",
      "RangeIndex: 284807 entries, 0 to 284806\n",
      "Data columns (total 31 columns):\n",
      " #   Column  Non-Null Count   Dtype  \n",
      "---  ------  --------------   -----  \n",
      " 0   Time    284807 non-null  float32\n",
      " 1   V1      284807 non-null  float16\n",
      " 2   V2      284807 non-null  float16\n",
      " 3   V3      284807 non-null  float16\n",
      " 4   V4      284807 non-null  float16\n",
      " 5   V5      284807 non-null  float16\n",
      " 6   V6      284807 non-null  float16\n",
      " 7   V7      284807 non-null  float16\n",
      " 8   V8      284807 non-null  float16\n",
      " 9   V9      284807 non-null  float16\n",
      " 10  V10     284807 non-null  float16\n",
      " 11  V11     284807 non-null  float16\n",
      " 12  V12     284807 non-null  float16\n",
      " 13  V13     284807 non-null  float16\n",
      " 14  V14     284807 non-null  float16\n",
      " 15  V15     284807 non-null  float16\n",
      " 16  V16     284807 non-null  float16\n",
      " 17  V17     284807 non-null  float16\n",
      " 18  V18     284807 non-null  float16\n",
      " 19  V19     284807 non-null  float16\n",
      " 20  V20     284807 non-null  float16\n",
      " 21  V21     284807 non-null  float16\n",
      " 22  V22     284807 non-null  float16\n",
      " 23  V23     284807 non-null  float16\n",
      " 24  V24     284807 non-null  float16\n",
      " 25  V25     284807 non-null  float16\n",
      " 26  V26     284807 non-null  float16\n",
      " 27  V27     284807 non-null  float16\n",
      " 28  V28     284807 non-null  float16\n",
      " 29  Amount  284807 non-null  float16\n",
      " 30  Class   284807 non-null  int64  \n",
      "dtypes: float16(29), float32(1), int64(1)\n",
      "memory usage: 19.0 MB\n"
     ]
    },
    {
     "data": {
      "text/plain": [
       "None"
      ]
     },
     "metadata": {},
     "output_type": "display_data"
    },
    {
     "data": {
      "text/plain": [
       " 1    284315\n",
       "-1       492\n",
       "Name: Class, dtype: int64"
      ]
     },
     "metadata": {},
     "output_type": "display_data"
    },
    {
     "name": "stdout",
     "output_type": "stream",
     "text": [
      "\n",
      "\n",
      "Normal Data\n"
     ]
    },
    {
     "data": {
      "text/html": [
       "<div>\n",
       "<style scoped>\n",
       "    .dataframe tbody tr th:only-of-type {\n",
       "        vertical-align: middle;\n",
       "    }\n",
       "\n",
       "    .dataframe tbody tr th {\n",
       "        vertical-align: top;\n",
       "    }\n",
       "\n",
       "    .dataframe thead th {\n",
       "        text-align: right;\n",
       "    }\n",
       "</style>\n",
       "<table border=\"1\" class=\"dataframe\">\n",
       "  <thead>\n",
       "    <tr style=\"text-align: right;\">\n",
       "      <th></th>\n",
       "      <th>Time</th>\n",
       "      <th>V1</th>\n",
       "      <th>V2</th>\n",
       "      <th>V3</th>\n",
       "      <th>V4</th>\n",
       "      <th>V5</th>\n",
       "      <th>V6</th>\n",
       "      <th>V7</th>\n",
       "      <th>V8</th>\n",
       "      <th>V9</th>\n",
       "      <th>...</th>\n",
       "      <th>V21</th>\n",
       "      <th>V22</th>\n",
       "      <th>V23</th>\n",
       "      <th>V24</th>\n",
       "      <th>V25</th>\n",
       "      <th>V26</th>\n",
       "      <th>V27</th>\n",
       "      <th>V28</th>\n",
       "      <th>Amount</th>\n",
       "      <th>Class</th>\n",
       "    </tr>\n",
       "  </thead>\n",
       "  <tbody>\n",
       "    <tr>\n",
       "      <th>count</th>\n",
       "      <td>284315.000000</td>\n",
       "      <td>284315.000000</td>\n",
       "      <td>284315.000000</td>\n",
       "      <td>284315.000000</td>\n",
       "      <td>284315.000000</td>\n",
       "      <td>284315.000000</td>\n",
       "      <td>284315.000000</td>\n",
       "      <td>284315.000000</td>\n",
       "      <td>284315.000000</td>\n",
       "      <td>284315.000000</td>\n",
       "      <td>...</td>\n",
       "      <td>284315.000000</td>\n",
       "      <td>284315.000000</td>\n",
       "      <td>284315.000000</td>\n",
       "      <td>284315.000000</td>\n",
       "      <td>284315.000000</td>\n",
       "      <td>284315.000000</td>\n",
       "      <td>284315.000000</td>\n",
       "      <td>284315.000000</td>\n",
       "      <td>284315.000000</td>\n",
       "      <td>284315.0</td>\n",
       "    </tr>\n",
       "    <tr>\n",
       "      <th>mean</th>\n",
       "      <td>94836.820312</td>\n",
       "      <td>0.008354</td>\n",
       "      <td>-0.006275</td>\n",
       "      <td>NaN</td>\n",
       "      <td>-0.007751</td>\n",
       "      <td>0.005222</td>\n",
       "      <td>0.002443</td>\n",
       "      <td>0.009674</td>\n",
       "      <td>-0.000992</td>\n",
       "      <td>0.004478</td>\n",
       "      <td>...</td>\n",
       "      <td>-0.001240</td>\n",
       "      <td>-0.000035</td>\n",
       "      <td>0.000061</td>\n",
       "      <td>0.000170</td>\n",
       "      <td>-0.000050</td>\n",
       "      <td>-0.000093</td>\n",
       "      <td>-0.000295</td>\n",
       "      <td>-0.000130</td>\n",
       "      <td>NaN</td>\n",
       "      <td>1.0</td>\n",
       "    </tr>\n",
       "    <tr>\n",
       "      <th>std</th>\n",
       "      <td>47483.007812</td>\n",
       "      <td>0.000000</td>\n",
       "      <td>0.000000</td>\n",
       "      <td>0.000000</td>\n",
       "      <td>0.000000</td>\n",
       "      <td>0.000000</td>\n",
       "      <td>0.000000</td>\n",
       "      <td>0.000000</td>\n",
       "      <td>0.000000</td>\n",
       "      <td>0.000000</td>\n",
       "      <td>...</td>\n",
       "      <td>0.000000</td>\n",
       "      <td>0.000000</td>\n",
       "      <td>0.000000</td>\n",
       "      <td>0.000000</td>\n",
       "      <td>0.000000</td>\n",
       "      <td>0.000000</td>\n",
       "      <td>0.399902</td>\n",
       "      <td>0.329590</td>\n",
       "      <td>NaN</td>\n",
       "      <td>0.0</td>\n",
       "    </tr>\n",
       "    <tr>\n",
       "      <th>min</th>\n",
       "      <td>0.000000</td>\n",
       "      <td>-56.406250</td>\n",
       "      <td>-72.687500</td>\n",
       "      <td>-48.312500</td>\n",
       "      <td>-5.683594</td>\n",
       "      <td>-113.750000</td>\n",
       "      <td>-26.156250</td>\n",
       "      <td>-31.765625</td>\n",
       "      <td>-73.187500</td>\n",
       "      <td>-6.289062</td>\n",
       "      <td>...</td>\n",
       "      <td>-34.843750</td>\n",
       "      <td>-10.929688</td>\n",
       "      <td>-44.812500</td>\n",
       "      <td>-2.835938</td>\n",
       "      <td>-10.296875</td>\n",
       "      <td>-2.605469</td>\n",
       "      <td>-22.562500</td>\n",
       "      <td>-15.429688</td>\n",
       "      <td>0.000000</td>\n",
       "      <td>1.0</td>\n",
       "    </tr>\n",
       "    <tr>\n",
       "      <th>25%</th>\n",
       "      <td>54230.000000</td>\n",
       "      <td>-0.917480</td>\n",
       "      <td>-0.599609</td>\n",
       "      <td>-0.884766</td>\n",
       "      <td>-0.850098</td>\n",
       "      <td>-0.689453</td>\n",
       "      <td>-0.767090</td>\n",
       "      <td>-0.551270</td>\n",
       "      <td>-0.208618</td>\n",
       "      <td>-0.640625</td>\n",
       "      <td>...</td>\n",
       "      <td>-0.228516</td>\n",
       "      <td>-0.542480</td>\n",
       "      <td>-0.161743</td>\n",
       "      <td>-0.354492</td>\n",
       "      <td>-0.317139</td>\n",
       "      <td>-0.327148</td>\n",
       "      <td>-0.070862</td>\n",
       "      <td>-0.052948</td>\n",
       "      <td>5.648438</td>\n",
       "      <td>1.0</td>\n",
       "    </tr>\n",
       "    <tr>\n",
       "      <th>50%</th>\n",
       "      <td>84711.000000</td>\n",
       "      <td>0.020020</td>\n",
       "      <td>0.064087</td>\n",
       "      <td>0.182129</td>\n",
       "      <td>-0.022400</td>\n",
       "      <td>-0.053467</td>\n",
       "      <td>-0.273193</td>\n",
       "      <td>0.041138</td>\n",
       "      <td>0.022034</td>\n",
       "      <td>-0.049957</td>\n",
       "      <td>...</td>\n",
       "      <td>-0.029816</td>\n",
       "      <td>0.006737</td>\n",
       "      <td>-0.011147</td>\n",
       "      <td>0.041077</td>\n",
       "      <td>0.016418</td>\n",
       "      <td>-0.052216</td>\n",
       "      <td>0.001229</td>\n",
       "      <td>0.011200</td>\n",
       "      <td>22.000000</td>\n",
       "      <td>1.0</td>\n",
       "    </tr>\n",
       "    <tr>\n",
       "      <th>75%</th>\n",
       "      <td>139333.000000</td>\n",
       "      <td>1.316406</td>\n",
       "      <td>0.800293</td>\n",
       "      <td>1.028320</td>\n",
       "      <td>0.737793</td>\n",
       "      <td>0.612305</td>\n",
       "      <td>0.399658</td>\n",
       "      <td>0.570801</td>\n",
       "      <td>0.326172</td>\n",
       "      <td>0.598145</td>\n",
       "      <td>...</td>\n",
       "      <td>0.185669</td>\n",
       "      <td>0.528320</td>\n",
       "      <td>0.147583</td>\n",
       "      <td>0.439941</td>\n",
       "      <td>0.350586</td>\n",
       "      <td>0.240723</td>\n",
       "      <td>0.090576</td>\n",
       "      <td>0.077942</td>\n",
       "      <td>77.062500</td>\n",
       "      <td>1.0</td>\n",
       "    </tr>\n",
       "    <tr>\n",
       "      <th>max</th>\n",
       "      <td>172792.000000</td>\n",
       "      <td>2.455078</td>\n",
       "      <td>18.906250</td>\n",
       "      <td>9.382812</td>\n",
       "      <td>16.875000</td>\n",
       "      <td>34.812500</td>\n",
       "      <td>73.312500</td>\n",
       "      <td>120.562500</td>\n",
       "      <td>18.703125</td>\n",
       "      <td>15.593750</td>\n",
       "      <td>...</td>\n",
       "      <td>22.609375</td>\n",
       "      <td>10.500000</td>\n",
       "      <td>22.531250</td>\n",
       "      <td>4.585938</td>\n",
       "      <td>7.519531</td>\n",
       "      <td>3.517578</td>\n",
       "      <td>31.609375</td>\n",
       "      <td>33.843750</td>\n",
       "      <td>25696.000000</td>\n",
       "      <td>1.0</td>\n",
       "    </tr>\n",
       "  </tbody>\n",
       "</table>\n",
       "<p>8 rows × 31 columns</p>\n",
       "</div>"
      ],
      "text/plain": [
       "                Time             V1             V2             V3  \\\n",
       "count  284315.000000  284315.000000  284315.000000  284315.000000   \n",
       "mean    94836.820312       0.008354      -0.006275            NaN   \n",
       "std     47483.007812       0.000000       0.000000       0.000000   \n",
       "min         0.000000     -56.406250     -72.687500     -48.312500   \n",
       "25%     54230.000000      -0.917480      -0.599609      -0.884766   \n",
       "50%     84711.000000       0.020020       0.064087       0.182129   \n",
       "75%    139333.000000       1.316406       0.800293       1.028320   \n",
       "max    172792.000000       2.455078      18.906250       9.382812   \n",
       "\n",
       "                  V4             V5             V6             V7  \\\n",
       "count  284315.000000  284315.000000  284315.000000  284315.000000   \n",
       "mean       -0.007751       0.005222       0.002443       0.009674   \n",
       "std         0.000000       0.000000       0.000000       0.000000   \n",
       "min        -5.683594    -113.750000     -26.156250     -31.765625   \n",
       "25%        -0.850098      -0.689453      -0.767090      -0.551270   \n",
       "50%        -0.022400      -0.053467      -0.273193       0.041138   \n",
       "75%         0.737793       0.612305       0.399658       0.570801   \n",
       "max        16.875000      34.812500      73.312500     120.562500   \n",
       "\n",
       "                  V8             V9  ...            V21            V22  \\\n",
       "count  284315.000000  284315.000000  ...  284315.000000  284315.000000   \n",
       "mean       -0.000992       0.004478  ...      -0.001240      -0.000035   \n",
       "std         0.000000       0.000000  ...       0.000000       0.000000   \n",
       "min       -73.187500      -6.289062  ...     -34.843750     -10.929688   \n",
       "25%        -0.208618      -0.640625  ...      -0.228516      -0.542480   \n",
       "50%         0.022034      -0.049957  ...      -0.029816       0.006737   \n",
       "75%         0.326172       0.598145  ...       0.185669       0.528320   \n",
       "max        18.703125      15.593750  ...      22.609375      10.500000   \n",
       "\n",
       "                 V23            V24            V25            V26  \\\n",
       "count  284315.000000  284315.000000  284315.000000  284315.000000   \n",
       "mean        0.000061       0.000170      -0.000050      -0.000093   \n",
       "std         0.000000       0.000000       0.000000       0.000000   \n",
       "min       -44.812500      -2.835938     -10.296875      -2.605469   \n",
       "25%        -0.161743      -0.354492      -0.317139      -0.327148   \n",
       "50%        -0.011147       0.041077       0.016418      -0.052216   \n",
       "75%         0.147583       0.439941       0.350586       0.240723   \n",
       "max        22.531250       4.585938       7.519531       3.517578   \n",
       "\n",
       "                 V27            V28         Amount     Class  \n",
       "count  284315.000000  284315.000000  284315.000000  284315.0  \n",
       "mean       -0.000295      -0.000130            NaN       1.0  \n",
       "std         0.399902       0.329590            NaN       0.0  \n",
       "min       -22.562500     -15.429688       0.000000       1.0  \n",
       "25%        -0.070862      -0.052948       5.648438       1.0  \n",
       "50%         0.001229       0.011200      22.000000       1.0  \n",
       "75%         0.090576       0.077942      77.062500       1.0  \n",
       "max        31.609375      33.843750   25696.000000       1.0  \n",
       "\n",
       "[8 rows x 31 columns]"
      ]
     },
     "metadata": {},
     "output_type": "display_data"
    },
    {
     "name": "stdout",
     "output_type": "stream",
     "text": [
      "\n",
      "\n",
      "Fraudulent Data\n"
     ]
    },
    {
     "data": {
      "text/html": [
       "<div>\n",
       "<style scoped>\n",
       "    .dataframe tbody tr th:only-of-type {\n",
       "        vertical-align: middle;\n",
       "    }\n",
       "\n",
       "    .dataframe tbody tr th {\n",
       "        vertical-align: top;\n",
       "    }\n",
       "\n",
       "    .dataframe thead th {\n",
       "        text-align: right;\n",
       "    }\n",
       "</style>\n",
       "<table border=\"1\" class=\"dataframe\">\n",
       "  <thead>\n",
       "    <tr style=\"text-align: right;\">\n",
       "      <th></th>\n",
       "      <th>Time</th>\n",
       "      <th>V1</th>\n",
       "      <th>V2</th>\n",
       "      <th>V3</th>\n",
       "      <th>V4</th>\n",
       "      <th>V5</th>\n",
       "      <th>V6</th>\n",
       "      <th>V7</th>\n",
       "      <th>V8</th>\n",
       "      <th>V9</th>\n",
       "      <th>...</th>\n",
       "      <th>V21</th>\n",
       "      <th>V22</th>\n",
       "      <th>V23</th>\n",
       "      <th>V24</th>\n",
       "      <th>V25</th>\n",
       "      <th>V26</th>\n",
       "      <th>V27</th>\n",
       "      <th>V28</th>\n",
       "      <th>Amount</th>\n",
       "      <th>Class</th>\n",
       "    </tr>\n",
       "  </thead>\n",
       "  <tbody>\n",
       "    <tr>\n",
       "      <th>count</th>\n",
       "      <td>492.000000</td>\n",
       "      <td>492.000000</td>\n",
       "      <td>492.000000</td>\n",
       "      <td>492.000000</td>\n",
       "      <td>492.000000</td>\n",
       "      <td>492.000000</td>\n",
       "      <td>492.000000</td>\n",
       "      <td>492.000000</td>\n",
       "      <td>492.000000</td>\n",
       "      <td>492.000000</td>\n",
       "      <td>...</td>\n",
       "      <td>492.000000</td>\n",
       "      <td>492.000000</td>\n",
       "      <td>492.000000</td>\n",
       "      <td>492.000000</td>\n",
       "      <td>492.000000</td>\n",
       "      <td>492.000000</td>\n",
       "      <td>492.000000</td>\n",
       "      <td>492.000000</td>\n",
       "      <td>492.0000</td>\n",
       "      <td>492.0</td>\n",
       "    </tr>\n",
       "    <tr>\n",
       "      <th>mean</th>\n",
       "      <td>80746.820312</td>\n",
       "      <td>-4.773438</td>\n",
       "      <td>3.623047</td>\n",
       "      <td>-7.031250</td>\n",
       "      <td>4.539062</td>\n",
       "      <td>-3.150391</td>\n",
       "      <td>-1.397461</td>\n",
       "      <td>-5.570312</td>\n",
       "      <td>0.570801</td>\n",
       "      <td>-2.582031</td>\n",
       "      <td>...</td>\n",
       "      <td>0.713379</td>\n",
       "      <td>0.014000</td>\n",
       "      <td>-0.040314</td>\n",
       "      <td>-0.105103</td>\n",
       "      <td>0.041443</td>\n",
       "      <td>0.051636</td>\n",
       "      <td>0.170654</td>\n",
       "      <td>0.075623</td>\n",
       "      <td>122.1875</td>\n",
       "      <td>-1.0</td>\n",
       "    </tr>\n",
       "    <tr>\n",
       "      <th>std</th>\n",
       "      <td>47835.363281</td>\n",
       "      <td>6.781250</td>\n",
       "      <td>4.289062</td>\n",
       "      <td>7.109375</td>\n",
       "      <td>2.873047</td>\n",
       "      <td>5.375000</td>\n",
       "      <td>1.857422</td>\n",
       "      <td>7.207031</td>\n",
       "      <td>6.796875</td>\n",
       "      <td>2.501953</td>\n",
       "      <td>...</td>\n",
       "      <td>3.869141</td>\n",
       "      <td>1.495117</td>\n",
       "      <td>1.579102</td>\n",
       "      <td>0.515625</td>\n",
       "      <td>0.796875</td>\n",
       "      <td>0.471680</td>\n",
       "      <td>1.376953</td>\n",
       "      <td>0.546875</td>\n",
       "      <td>inf</td>\n",
       "      <td>0.0</td>\n",
       "    </tr>\n",
       "    <tr>\n",
       "      <th>min</th>\n",
       "      <td>406.000000</td>\n",
       "      <td>-30.546875</td>\n",
       "      <td>-8.398438</td>\n",
       "      <td>-31.109375</td>\n",
       "      <td>-1.313477</td>\n",
       "      <td>-22.109375</td>\n",
       "      <td>-6.406250</td>\n",
       "      <td>-43.562500</td>\n",
       "      <td>-41.031250</td>\n",
       "      <td>-13.437500</td>\n",
       "      <td>...</td>\n",
       "      <td>-22.796875</td>\n",
       "      <td>-8.890625</td>\n",
       "      <td>-19.250000</td>\n",
       "      <td>-2.027344</td>\n",
       "      <td>-4.781250</td>\n",
       "      <td>-1.152344</td>\n",
       "      <td>-7.261719</td>\n",
       "      <td>-1.869141</td>\n",
       "      <td>0.0000</td>\n",
       "      <td>-1.0</td>\n",
       "    </tr>\n",
       "    <tr>\n",
       "      <th>25%</th>\n",
       "      <td>41241.500000</td>\n",
       "      <td>-6.036133</td>\n",
       "      <td>1.187988</td>\n",
       "      <td>-8.644531</td>\n",
       "      <td>2.373535</td>\n",
       "      <td>-4.791992</td>\n",
       "      <td>-2.501953</td>\n",
       "      <td>-7.963867</td>\n",
       "      <td>-0.195312</td>\n",
       "      <td>-3.872070</td>\n",
       "      <td>...</td>\n",
       "      <td>0.041794</td>\n",
       "      <td>-0.533813</td>\n",
       "      <td>-0.342102</td>\n",
       "      <td>-0.436768</td>\n",
       "      <td>-0.314270</td>\n",
       "      <td>-0.259399</td>\n",
       "      <td>-0.020023</td>\n",
       "      <td>-0.108887</td>\n",
       "      <td>1.0000</td>\n",
       "      <td>-1.0</td>\n",
       "    </tr>\n",
       "    <tr>\n",
       "      <th>50%</th>\n",
       "      <td>75568.500000</td>\n",
       "      <td>-2.342773</td>\n",
       "      <td>2.718750</td>\n",
       "      <td>-5.074219</td>\n",
       "      <td>4.175781</td>\n",
       "      <td>-1.522949</td>\n",
       "      <td>-1.424805</td>\n",
       "      <td>-3.034180</td>\n",
       "      <td>0.621582</td>\n",
       "      <td>-2.208984</td>\n",
       "      <td>...</td>\n",
       "      <td>0.592285</td>\n",
       "      <td>0.048431</td>\n",
       "      <td>-0.073120</td>\n",
       "      <td>-0.060791</td>\n",
       "      <td>0.088348</td>\n",
       "      <td>0.004322</td>\n",
       "      <td>0.395020</td>\n",
       "      <td>0.146362</td>\n",
       "      <td>9.2500</td>\n",
       "      <td>-1.0</td>\n",
       "    </tr>\n",
       "    <tr>\n",
       "      <th>75%</th>\n",
       "      <td>128483.000000</td>\n",
       "      <td>-0.419250</td>\n",
       "      <td>4.971680</td>\n",
       "      <td>-2.276367</td>\n",
       "      <td>6.347656</td>\n",
       "      <td>0.214569</td>\n",
       "      <td>-0.413147</td>\n",
       "      <td>-0.946167</td>\n",
       "      <td>1.765137</td>\n",
       "      <td>-0.787964</td>\n",
       "      <td>...</td>\n",
       "      <td>1.244385</td>\n",
       "      <td>0.617310</td>\n",
       "      <td>0.308411</td>\n",
       "      <td>0.285400</td>\n",
       "      <td>0.456482</td>\n",
       "      <td>0.396729</td>\n",
       "      <td>0.826050</td>\n",
       "      <td>0.381042</td>\n",
       "      <td>105.8750</td>\n",
       "      <td>-1.0</td>\n",
       "    </tr>\n",
       "    <tr>\n",
       "      <th>max</th>\n",
       "      <td>170348.000000</td>\n",
       "      <td>2.132812</td>\n",
       "      <td>22.062500</td>\n",
       "      <td>2.250000</td>\n",
       "      <td>12.117188</td>\n",
       "      <td>11.093750</td>\n",
       "      <td>6.472656</td>\n",
       "      <td>5.800781</td>\n",
       "      <td>20.000000</td>\n",
       "      <td>3.353516</td>\n",
       "      <td>...</td>\n",
       "      <td>27.203125</td>\n",
       "      <td>8.359375</td>\n",
       "      <td>5.464844</td>\n",
       "      <td>1.091797</td>\n",
       "      <td>2.208984</td>\n",
       "      <td>2.746094</td>\n",
       "      <td>3.052734</td>\n",
       "      <td>1.779297</td>\n",
       "      <td>2126.0000</td>\n",
       "      <td>-1.0</td>\n",
       "    </tr>\n",
       "  </tbody>\n",
       "</table>\n",
       "<p>8 rows × 31 columns</p>\n",
       "</div>"
      ],
      "text/plain": [
       "                Time          V1          V2          V3          V4  \\\n",
       "count     492.000000  492.000000  492.000000  492.000000  492.000000   \n",
       "mean    80746.820312   -4.773438    3.623047   -7.031250    4.539062   \n",
       "std     47835.363281    6.781250    4.289062    7.109375    2.873047   \n",
       "min       406.000000  -30.546875   -8.398438  -31.109375   -1.313477   \n",
       "25%     41241.500000   -6.036133    1.187988   -8.644531    2.373535   \n",
       "50%     75568.500000   -2.342773    2.718750   -5.074219    4.175781   \n",
       "75%    128483.000000   -0.419250    4.971680   -2.276367    6.347656   \n",
       "max    170348.000000    2.132812   22.062500    2.250000   12.117188   \n",
       "\n",
       "               V5          V6          V7          V8          V9  ...  \\\n",
       "count  492.000000  492.000000  492.000000  492.000000  492.000000  ...   \n",
       "mean    -3.150391   -1.397461   -5.570312    0.570801   -2.582031  ...   \n",
       "std      5.375000    1.857422    7.207031    6.796875    2.501953  ...   \n",
       "min    -22.109375   -6.406250  -43.562500  -41.031250  -13.437500  ...   \n",
       "25%     -4.791992   -2.501953   -7.963867   -0.195312   -3.872070  ...   \n",
       "50%     -1.522949   -1.424805   -3.034180    0.621582   -2.208984  ...   \n",
       "75%      0.214569   -0.413147   -0.946167    1.765137   -0.787964  ...   \n",
       "max     11.093750    6.472656    5.800781   20.000000    3.353516  ...   \n",
       "\n",
       "              V21         V22         V23         V24         V25         V26  \\\n",
       "count  492.000000  492.000000  492.000000  492.000000  492.000000  492.000000   \n",
       "mean     0.713379    0.014000   -0.040314   -0.105103    0.041443    0.051636   \n",
       "std      3.869141    1.495117    1.579102    0.515625    0.796875    0.471680   \n",
       "min    -22.796875   -8.890625  -19.250000   -2.027344   -4.781250   -1.152344   \n",
       "25%      0.041794   -0.533813   -0.342102   -0.436768   -0.314270   -0.259399   \n",
       "50%      0.592285    0.048431   -0.073120   -0.060791    0.088348    0.004322   \n",
       "75%      1.244385    0.617310    0.308411    0.285400    0.456482    0.396729   \n",
       "max     27.203125    8.359375    5.464844    1.091797    2.208984    2.746094   \n",
       "\n",
       "              V27         V28     Amount  Class  \n",
       "count  492.000000  492.000000   492.0000  492.0  \n",
       "mean     0.170654    0.075623   122.1875   -1.0  \n",
       "std      1.376953    0.546875        inf    0.0  \n",
       "min     -7.261719   -1.869141     0.0000   -1.0  \n",
       "25%     -0.020023   -0.108887     1.0000   -1.0  \n",
       "50%      0.395020    0.146362     9.2500   -1.0  \n",
       "75%      0.826050    0.381042   105.8750   -1.0  \n",
       "max      3.052734    1.779297  2126.0000   -1.0  \n",
       "\n",
       "[8 rows x 31 columns]"
      ]
     },
     "metadata": {},
     "output_type": "display_data"
    }
   ],
   "source": [
    "# Import data and explore\n",
    "\n",
    "df = pd.read_csv('/kaggle/input/creditcardfraud/creditcard.csv')\n",
    "\n",
    "reduce_mem_usage(df)\n",
    "\n",
    "df.Class.replace({1:-1}, inplace = True)\n",
    "df.Class.replace({0:1}, inplace = True)\n",
    "\n",
    "display(df.head())\n",
    "\n",
    "#First we check for null values#\n",
    "display(df.info())\n",
    "        \n",
    "#Second we look at the balance of the data\n",
    "display(df.Class.value_counts())\n",
    "\n",
    "#Finally we look at the descriptive statistics of the fraudulent and non-fraudulent data#\n",
    "print('\\n\\nNormal Data')\n",
    "display(df[df.Class == 1].describe())\n",
    "print('\\n\\nFraudulent Data')\n",
    "display(df[df.Class == -1].describe())"
   ]
  },
  {
   "cell_type": "code",
   "execution_count": 5,
   "id": "e25585b1",
   "metadata": {
    "execution": {
     "iopub.execute_input": "2022-02-21T12:18:25.951178Z",
     "iopub.status.busy": "2022-02-21T12:18:25.950516Z",
     "iopub.status.idle": "2022-02-21T12:18:26.137271Z",
     "shell.execute_reply": "2022-02-21T12:18:26.136710Z",
     "shell.execute_reply.started": "2022-02-21T12:06:46.653044Z"
    },
    "papermill": {
     "duration": 0.21262,
     "end_time": "2022-02-21T12:18:26.137443",
     "exception": false,
     "start_time": "2022-02-21T12:18:25.924823",
     "status": "completed"
    },
    "tags": []
   },
   "outputs": [
    {
     "name": "stdout",
     "output_type": "stream",
     "text": [
      "test shape =  (56961, 31)\n",
      "test class balance:\n"
     ]
    },
    {
     "data": {
      "text/plain": [
       " 1    0.99828\n",
       "-1    0.00172\n",
       "Name: Class, dtype: float64"
      ]
     },
     "metadata": {},
     "output_type": "display_data"
    },
    {
     "name": "stdout",
     "output_type": "stream",
     "text": [
      "\n",
      "\n",
      "train shape =  (227846, 31)\n",
      "train class balance:\n"
     ]
    },
    {
     "data": {
      "text/plain": [
       " 1    0.998271\n",
       "-1    0.001729\n",
       "Name: Class, dtype: float64"
      ]
     },
     "metadata": {},
     "output_type": "display_data"
    }
   ],
   "source": [
    "# We begin by splitting the data into Train and test. Normally this would be done with test_train_split but this time I want to keep \n",
    "# the class information with the rest of the dataframe so I will sample instead\n",
    "\n",
    "train = df.sample(frac=0.8,random_state=200)\n",
    "test = df.drop(train.index)\n",
    "\n",
    "print('test shape = ', test.shape)\n",
    "print('test class balance:')\n",
    "display(test.Class.value_counts(normalize = True))\n",
    "\n",
    "print('\\n\\ntrain shape = ', train.shape)\n",
    "print('train class balance:')\n",
    "display(train.Class.value_counts(normalize = True))\n",
    "\n",
    "\n",
    "col_names = ['Time', 'Amount']\n",
    "scaler = StandardScaler().fit(train[col_names].values)\n",
    "scaler.transform(train[col_names].values)\n",
    "train[col_names] = scaler.transform(train[col_names].values)\n",
    "test[col_names] = scaler.transform(test[col_names].values)\n",
    "\n",
    "X_train = train.iloc[:,:-1]\n",
    "y_train = train.Class\n",
    "\n",
    "X_test = test.iloc[:,:-1]\n",
    "y_test = test.Class"
   ]
  },
  {
   "cell_type": "markdown",
   "id": "4a87c5f6",
   "metadata": {
    "papermill": {
     "duration": 0.024898,
     "end_time": "2022-02-21T12:18:26.188206",
     "exception": false,
     "start_time": "2022-02-21T12:18:26.163308",
     "status": "completed"
    },
    "tags": []
   },
   "source": [
    "### This shows that we have split our data into test and train sets that are similar in make up\n",
    "\n",
    "\n",
    "## Elliptic Envelope\n",
    "\n",
    "This algorithm assumes that the data fits into a standard shape and looks for any points that are outside of it.\n",
    "This means that it doesn't need to be provided with labels.\n",
    "\n",
    "However, it does take a very long time to run."
   ]
  },
  {
   "cell_type": "code",
   "execution_count": 6,
   "id": "e4833a58",
   "metadata": {
    "execution": {
     "iopub.execute_input": "2022-02-21T12:18:26.243233Z",
     "iopub.status.busy": "2022-02-21T12:18:26.242584Z",
     "iopub.status.idle": "2022-02-21T12:25:59.454189Z",
     "shell.execute_reply": "2022-02-21T12:25:59.452704Z",
     "shell.execute_reply.started": "2022-02-21T12:06:46.875895Z"
    },
    "papermill": {
     "duration": 453.241164,
     "end_time": "2022-02-21T12:25:59.454374",
     "exception": false,
     "start_time": "2022-02-21T12:18:26.213210",
     "status": "completed"
    },
    "tags": []
   },
   "outputs": [
    {
     "name": "stdout",
     "output_type": "stream",
     "text": [
      "              precision    recall  f1-score   support\n",
      "\n",
      "          -1       0.01      0.85      0.03        98\n",
      "           1       1.00      0.90      0.95     56863\n",
      "\n",
      "    accuracy                           0.90     56961\n",
      "   macro avg       0.51      0.87      0.49     56961\n",
      "weighted avg       1.00      0.90      0.95     56961\n",
      "\n"
     ]
    },
    {
     "data": {
      "image/png": "[encoded data removed]",
      "text/plain": [
       "<Figure size 432x288 with 2 Axes>"
      ]
     },
     "metadata": {
      "needs_background": "light"
     },
     "output_type": "display_data"
    },
    {
     "name": "stdout",
     "output_type": "stream",
     "text": [
      "CPU times: user 14min 25s, sys: 15min 10s, total: 29min 36s\n",
      "Wall time: 7min 33s\n"
     ]
    }
   ],
   "source": [
    "%%time\n",
    "\n",
    "from sklearn.covariance import EllipticEnvelope\n",
    "\n",
    "# contamination is an estimate of the rate of outliers\n",
    "env = EllipticEnvelope(random_state=200, contamination = 0.1).fit(X_train)\n",
    "\n",
    "show_predictions(env, X_test, y_test)"
   ]
  },
  {
   "cell_type": "markdown",
   "id": "b422e841",
   "metadata": {
    "papermill": {
     "duration": 0.025399,
     "end_time": "2022-02-21T12:25:59.505534",
     "exception": false,
     "start_time": "2022-02-21T12:25:59.480135",
     "status": "completed"
    },
    "tags": []
   },
   "source": [
    "Trying this algorithm with a contamination of 0.1, 0.01 and 0.001 all gave poor results. It also takes about 30 minutes to run.\n",
    "\n",
    "At 0.1 it had 57 TN, 41 FP, 5698 FN and 51165 TP"
   ]
  },
  {
   "cell_type": "markdown",
   "id": "cb51c337",
   "metadata": {
    "papermill": {
     "duration": 0.025503,
     "end_time": "2022-02-21T12:25:59.556653",
     "exception": false,
     "start_time": "2022-02-21T12:25:59.531150",
     "status": "completed"
    },
    "tags": []
   },
   "source": [
    "## One Class SVM (SDG)\n",
    "\n",
    "The algorithm uses a support vector machine to create a frontier. On one side are the inliers and on the other the outliers. There are two main versions of this, the normal SVM that runs in quadratic time and the Stochastic Gradient Descent version that runs in linear time.\n",
    "\n",
    "Given that this dataset has almost 285000 rows, I would have used the SDG version but Kaggle doesn't have an current version of SciKit Learn installed."
   ]
  },
  {
   "cell_type": "code",
   "execution_count": 7,
   "id": "d40306fb",
   "metadata": {
    "execution": {
     "iopub.execute_input": "2022-02-21T12:25:59.611679Z",
     "iopub.status.busy": "2022-02-21T12:25:59.611036Z",
     "iopub.status.idle": "2022-02-21T13:46:06.890177Z",
     "shell.execute_reply": "2022-02-21T13:46:06.888171Z",
     "shell.execute_reply.started": "2022-02-21T12:06:46.882242Z"
    },
    "papermill": {
     "duration": 4807.308491,
     "end_time": "2022-02-21T13:46:06.890696",
     "exception": false,
     "start_time": "2022-02-21T12:25:59.582205",
     "status": "completed"
    },
    "tags": []
   },
   "outputs": [
    {
     "name": "stdout",
     "output_type": "stream",
     "text": [
      "              precision    recall  f1-score   support\n",
      "\n",
      "          -1       0.00      0.97      0.01        98\n",
      "           1       1.00      0.50      0.67     56863\n",
      "\n",
      "    accuracy                           0.50     56961\n",
      "   macro avg       0.50      0.74      0.34     56961\n",
      "weighted avg       1.00      0.50      0.67     56961\n",
      "\n"
     ]
    },
    {
     "data": {
      "image/png": "[encoded data removed]",
      "text/plain": [
       "<Figure size 432x288 with 2 Axes>"
      ]
     },
     "metadata": {
      "needs_background": "light"
     },
     "output_type": "display_data"
    },
    {
     "name": "stdout",
     "output_type": "stream",
     "text": [
      "CPU times: user 1h 20min 5s, sys: 1.19 s, total: 1h 20min 6s\n",
      "Wall time: 1h 20min 7s\n"
     ]
    }
   ],
   "source": [
    "%%time\n",
    "\n",
    "from sklearn.svm import OneClassSVM\n",
    "\n",
    "clf = OneClassSVM(gamma = 'auto')\n",
    "clf.fit(X_train)\n",
    "show_predictions(clf, X_test, y_test)"
   ]
  },
  {
   "cell_type": "markdown",
   "id": "1b9755b2",
   "metadata": {
    "papermill": {
     "duration": 0.027922,
     "end_time": "2022-02-21T13:46:06.946396",
     "exception": false,
     "start_time": "2022-02-21T13:46:06.918474",
     "status": "completed"
    },
    "tags": []
   },
   "source": [
    "This code works but due to the size of the dataset takes over three hours to run and produces poor results\n",
    "\n",
    "With given parameters it had 98 TN, 0 FP, 55089 FN and 1774 TP"
   ]
  },
  {
   "cell_type": "markdown",
   "id": "945cc320",
   "metadata": {
    "papermill": {
     "duration": 0.027673,
     "end_time": "2022-02-21T13:46:07.001472",
     "exception": false,
     "start_time": "2022-02-21T13:46:06.973799",
     "status": "completed"
    },
    "tags": []
   },
   "source": [
    "## Isolation Forest\n",
    "\n",
    "This technique creates an ensemble of decision trees to find rules that exclude the anomalies"
   ]
  },
  {
   "cell_type": "code",
   "execution_count": 8,
   "id": "9864956f",
   "metadata": {
    "execution": {
     "iopub.execute_input": "2022-02-21T13:46:07.062639Z",
     "iopub.status.busy": "2022-02-21T13:46:07.061912Z",
     "iopub.status.idle": "2022-02-21T13:46:10.803592Z",
     "shell.execute_reply": "2022-02-21T13:46:10.802928Z",
     "shell.execute_reply.started": "2022-02-21T12:06:46.897808Z"
    },
    "papermill": {
     "duration": 3.774977,
     "end_time": "2022-02-21T13:46:10.803740",
     "exception": false,
     "start_time": "2022-02-21T13:46:07.028763",
     "status": "completed"
    },
    "tags": []
   },
   "outputs": [
    {
     "name": "stdout",
     "output_type": "stream",
     "text": [
      "              precision    recall  f1-score   support\n",
      "\n",
      "          -1       0.04      0.85      0.08        98\n",
      "           1       1.00      0.97      0.98     56863\n",
      "\n",
      "    accuracy                           0.97     56961\n",
      "   macro avg       0.52      0.91      0.53     56961\n",
      "weighted avg       1.00      0.97      0.98     56961\n",
      "\n"
     ]
    },
    {
     "data": {
      "image/png": "[encoded data removed]",
      "text/plain": [
       "<Figure size 432x288 with 2 Axes>"
      ]
     },
     "metadata": {
      "needs_background": "light"
     },
     "output_type": "display_data"
    },
    {
     "name": "stdout",
     "output_type": "stream",
     "text": [
      "CPU times: user 3.73 s, sys: 160 ms, total: 3.89 s\n",
      "Wall time: 3.73 s\n"
     ]
    }
   ],
   "source": [
    "%%time\n",
    "\n",
    "from sklearn.ensemble import IsolationForest\n",
    "\n",
    "isol = IsolationForest(random_state=200)\n",
    "isol.fit(X_train)\n",
    "show_predictions(isol, X_test, y_test)"
   ]
  },
  {
   "cell_type": "markdown",
   "id": "7cb15398",
   "metadata": {
    "papermill": {
     "duration": 0.028187,
     "end_time": "2022-02-21T13:46:10.860843",
     "exception": false,
     "start_time": "2022-02-21T13:46:10.832656",
     "status": "completed"
    },
    "tags": []
   },
   "source": [
    "## Local Outlier Factor\n",
    "\n",
    "This method looks to see if the points have close neighbours. If they do then it finds them to be normal, if not then it finds them anomalous.\n",
    "The number of neighbours it looks for is set as a hyperparameter"
   ]
  },
  {
   "cell_type": "code",
   "execution_count": 9,
   "id": "b513843e",
   "metadata": {
    "execution": {
     "iopub.execute_input": "2022-02-21T13:46:10.926939Z",
     "iopub.status.busy": "2022-02-21T13:46:10.925859Z",
     "iopub.status.idle": "2022-02-21T13:58:54.080119Z",
     "shell.execute_reply": "2022-02-21T13:58:54.078667Z"
    },
    "papermill": {
     "duration": 763.190198,
     "end_time": "2022-02-21T13:58:54.080267",
     "exception": false,
     "start_time": "2022-02-21T13:46:10.890069",
     "status": "completed"
    },
    "tags": []
   },
   "outputs": [
    {
     "name": "stdout",
     "output_type": "stream",
     "text": [
      "              precision    recall  f1-score   support\n",
      "\n",
      "          -1       0.00      0.16      0.00        98\n",
      "           1       1.00      0.87      0.93     56863\n",
      "\n",
      "    accuracy                           0.87     56961\n",
      "   macro avg       0.50      0.52      0.47     56961\n",
      "weighted avg       1.00      0.87      0.93     56961\n",
      "\n"
     ]
    },
    {
     "data": {
      "image/png": "[encoded data removed]",
      "text/plain": [
       "<Figure size 432x288 with 2 Axes>"
      ]
     },
     "metadata": {
      "needs_background": "light"
     },
     "output_type": "display_data"
    },
    {
     "name": "stdout",
     "output_type": "stream",
     "text": [
      "CPU times: user 12min 42s, sys: 273 ms, total: 12min 43s\n",
      "Wall time: 12min 43s\n"
     ]
    }
   ],
   "source": [
    "%%time\n",
    "\n",
    "from sklearn.neighbors import LocalOutlierFactor\n",
    "\n",
    "lof = LocalOutlierFactor(n_neighbors=2, novelty=True)\n",
    "lof.fit(X_train)\n",
    "show_predictions(lof, X_test, y_test)"
   ]
  },
  {
   "cell_type": "markdown",
   "id": "cd775b4f",
   "metadata": {
    "papermill": {
     "duration": 0.030546,
     "end_time": "2022-02-21T13:58:54.141090",
     "exception": false,
     "start_time": "2022-02-21T13:58:54.110544",
     "status": "completed"
    },
    "tags": []
   },
   "source": [
    "## SciKit Learn Summary\n",
    "\n",
    "Of the four models implimented the isolation forest has generated the best results, followed by the Local Outlier Factor (LOF). The ecilptic envelope had similar results to the LOF model but took over thirty minutes to run compared to 9 seconds. The Support Vector Machine (SVM) produced surprisingly awful results and took over three hours to run, so while it is likely that this could be markedly improved by adjusting hyperperameters, this model is discounted due to time.\n",
    "\n",
    "Attempts were made to adjust the hyperperameters on the Isolation Forest model and the LOF model but no significant change was noted."
   ]
  },
  {
   "cell_type": "markdown",
   "id": "5ed9ed10",
   "metadata": {
    "papermill": {
     "duration": 0.029869,
     "end_time": "2022-02-21T13:58:54.201082",
     "exception": false,
     "start_time": "2022-02-21T13:58:54.171213",
     "status": "completed"
    },
    "tags": []
   },
   "source": [
    "## Auto Encoder\n",
    "\n",
    "Autoencoders learn how to recreate data from only the normal instances. Once it is good at that all of the data is fed into it; any that it can recreate well are thought to be normal, any that it can't are thought to be abnormal."
   ]
  },
  {
   "cell_type": "code",
   "execution_count": 10,
   "id": "55459518",
   "metadata": {
    "execution": {
     "iopub.execute_input": "2022-02-21T13:58:54.266284Z",
     "iopub.status.busy": "2022-02-21T13:58:54.265657Z",
     "iopub.status.idle": "2022-02-21T13:59:00.894707Z",
     "shell.execute_reply": "2022-02-21T13:59:00.895227Z"
    },
    "papermill": {
     "duration": 6.662975,
     "end_time": "2022-02-21T13:59:00.895433",
     "exception": false,
     "start_time": "2022-02-21T13:58:54.232458",
     "status": "completed"
    },
    "tags": []
   },
   "outputs": [
    {
     "name": "stdout",
     "output_type": "stream",
     "text": [
      "(45569, 31) (181972, 30)\n"
     ]
    }
   ],
   "source": [
    "# Import Libraries and data\n",
    "\n",
    "import tensorflow as tf\n",
    "from tensorflow import keras\n",
    "from keras import layers\n",
    "from keras.callbacks import EarlyStopping\n",
    "\n",
    "import os\n",
    "os.environ['TF_CPP_MIN_LOG_LEVEL'] = '2'\n",
    "\n",
    "# Split out training data into train and validation. \n",
    "ae_train = train.sample(frac=0.8, random_state=200)\n",
    "ae_val = train.drop(ae_train.index)\n",
    "\n",
    "# remove any fraudulent cases from the training data - we want to train it to know what good data should look like\n",
    "ae_train = ae_train[ae_train.Class ==1]\n",
    "\n",
    "ae_train.drop('Class', axis=1, inplace = True)\n",
    "ae_val_dropped = ae_val.drop('Class', axis=1)\n",
    "\n",
    "print(ae_val.shape, ae_train.shape)"
   ]
  },
  {
   "cell_type": "code",
   "execution_count": 11,
   "id": "910a11c5",
   "metadata": {
    "execution": {
     "iopub.execute_input": "2022-02-21T13:59:00.968618Z",
     "iopub.status.busy": "2022-02-21T13:59:00.967924Z",
     "iopub.status.idle": "2022-02-21T13:59:01.565102Z",
     "shell.execute_reply": "2022-02-21T13:59:01.564625Z"
    },
    "papermill": {
     "duration": 0.637186,
     "end_time": "2022-02-21T13:59:01.565243",
     "exception": false,
     "start_time": "2022-02-21T13:59:00.928057",
     "status": "completed"
    },
    "tags": []
   },
   "outputs": [
    {
     "name": "stdout",
     "output_type": "stream",
     "text": [
      "Model: \"model\"\n",
      "_________________________________________________________________\n",
      "Layer (type)                 Output Shape              Param #   \n",
      "=================================================================\n",
      "input_1 (InputLayer)         [(None, 30)]              0         \n",
      "_________________________________________________________________\n",
      "dense (Dense)                (None, 15)                465       \n",
      "_________________________________________________________________\n",
      "dropout (Dropout)            (None, 15)                0         \n",
      "_________________________________________________________________\n",
      "dense_1 (Dense)              (None, 8)                 128       \n",
      "_________________________________________________________________\n",
      "dense_2 (Dense)              (None, 4)                 36        \n",
      "_________________________________________________________________\n",
      "dense_3 (Dense)              (None, 8)                 40        \n",
      "_________________________________________________________________\n",
      "dropout_1 (Dropout)          (None, 8)                 0         \n",
      "_________________________________________________________________\n",
      "dense_4 (Dense)              (None, 15)                135       \n",
      "_________________________________________________________________\n",
      "dense_5 (Dense)              (None, 30)                480       \n",
      "=================================================================\n",
      "Total params: 1,284\n",
      "Trainable params: 1,284\n",
      "Non-trainable params: 0\n",
      "_________________________________________________________________\n"
     ]
    }
   ],
   "source": [
    "# Lets create our model\n",
    "\n",
    "#input Layer\n",
    "input_layer = layers.Input(shape=(30, ))\n",
    "#Encoder\n",
    "encoder = layers.Dense(15, activation=\"tanh\",activity_regularizer=keras.regularizers.l2(0.0001))(input_layer)\n",
    "encoder = layers.Dropout(0.2)(encoder)\n",
    "encoder = layers.Dense(8, activation='relu')(encoder)\n",
    "encoder = layers.Dense(4, activation=tf.nn.leaky_relu)(encoder)\n",
    "# Decoder\n",
    "decoder = layers.Dense(8, activation='relu')(encoder)\n",
    "decoder= layers.Dropout(0.2)(decoder)\n",
    "decoder = layers.Dense(15, activation='relu')(decoder)\n",
    "decoder = layers.Dense(30, activation='tanh')(decoder)\n",
    "#Autoencoder\n",
    "autoencoder = keras.Model(inputs=input_layer, outputs=decoder)\n",
    "autoencoder.summary()\n",
    "\n",
    "early_stop = EarlyStopping(monitor='val_loss', min_delta=0.0001, patience=10, verbose=1, mode='min', restore_best_weights=True)\n",
    "autoencoder.compile(metrics=['accuracy'], loss='mean_squared_error', optimizer='adam')"
   ]
  },
  {
   "cell_type": "code",
   "execution_count": 12,
   "id": "3ab9f1c6",
   "metadata": {
    "execution": {
     "iopub.execute_input": "2022-02-21T13:59:01.630049Z",
     "iopub.status.busy": "2022-02-21T13:59:01.629406Z",
     "iopub.status.idle": "2022-02-21T14:03:17.551318Z",
     "shell.execute_reply": "2022-02-21T14:03:17.551780Z"
    },
    "papermill": {
     "duration": 255.955843,
     "end_time": "2022-02-21T14:03:17.551977",
     "exception": false,
     "start_time": "2022-02-21T13:59:01.596134",
     "status": "completed"
    },
    "tags": []
   },
   "outputs": [
    {
     "name": "stdout",
     "output_type": "stream",
     "text": [
      "Epoch 1/200\n",
      "1422/1422 [==============================] - 5s 3ms/step - loss: 0.9012 - accuracy: 0.3146 - val_loss: 0.8207 - val_accuracy: 0.3868\n",
      "Epoch 2/200\n",
      "1422/1422 [==============================] - 4s 3ms/step - loss: 0.8364 - accuracy: 0.3760 - val_loss: 0.8003 - val_accuracy: 0.4000\n",
      "Epoch 3/200\n",
      "1422/1422 [==============================] - 4s 3ms/step - loss: 0.8216 - accuracy: 0.3880 - val_loss: 0.7922 - val_accuracy: 0.4067\n",
      "Epoch 4/200\n",
      "1422/1422 [==============================] - 4s 3ms/step - loss: 0.8098 - accuracy: 0.3971 - val_loss: 0.7815 - val_accuracy: 0.4133\n",
      "Epoch 5/200\n",
      "1422/1422 [==============================] - 4s 3ms/step - loss: 0.8000 - accuracy: 0.4015 - val_loss: 0.7693 - val_accuracy: 0.4210\n",
      "Epoch 6/200\n",
      "1422/1422 [==============================] - 4s 3ms/step - loss: 0.7911 - accuracy: 0.4053 - val_loss: 0.7620 - val_accuracy: 0.4292\n",
      "Epoch 7/200\n",
      "1422/1422 [==============================] - 4s 3ms/step - loss: 0.7836 - accuracy: 0.4084 - val_loss: 0.7549 - val_accuracy: 0.4273\n",
      "Epoch 8/200\n",
      "1422/1422 [==============================] - 4s 3ms/step - loss: 0.7764 - accuracy: 0.4068 - val_loss: 0.7479 - val_accuracy: 0.4227\n",
      "Epoch 9/200\n",
      "1422/1422 [==============================] - 4s 3ms/step - loss: 0.7723 - accuracy: 0.4066 - val_loss: 0.7431 - val_accuracy: 0.4209\n",
      "Epoch 10/200\n",
      "1422/1422 [==============================] - 4s 3ms/step - loss: 0.7692 - accuracy: 0.4050 - val_loss: 0.7394 - val_accuracy: 0.4186\n",
      "Epoch 11/200\n",
      "1422/1422 [==============================] - 4s 3ms/step - loss: 0.7663 - accuracy: 0.4068 - val_loss: 0.7379 - val_accuracy: 0.4220\n",
      "Epoch 12/200\n",
      "1422/1422 [==============================] - 4s 3ms/step - loss: 0.7645 - accuracy: 0.4088 - val_loss: 0.7340 - val_accuracy: 0.4234\n",
      "Epoch 13/200\n",
      "1422/1422 [==============================] - 4s 3ms/step - loss: 0.7621 - accuracy: 0.4084 - val_loss: 0.7305 - val_accuracy: 0.4272\n",
      "Epoch 14/200\n",
      "1422/1422 [==============================] - 4s 3ms/step - loss: 0.7606 - accuracy: 0.4108 - val_loss: 0.7306 - val_accuracy: 0.4314\n",
      "Epoch 15/200\n",
      "1422/1422 [==============================] - 4s 3ms/step - loss: 0.7589 - accuracy: 0.4112 - val_loss: 0.7278 - val_accuracy: 0.4301\n",
      "Epoch 16/200\n",
      "1422/1422 [==============================] - 4s 3ms/step - loss: 0.7565 - accuracy: 0.4115 - val_loss: 0.7226 - val_accuracy: 0.4318\n",
      "Epoch 17/200\n",
      "1422/1422 [==============================] - 4s 3ms/step - loss: 0.7547 - accuracy: 0.4133 - val_loss: 0.7213 - val_accuracy: 0.4533\n",
      "Epoch 18/200\n",
      "1422/1422 [==============================] - 4s 3ms/step - loss: 0.7529 - accuracy: 0.4360 - val_loss: 0.7181 - val_accuracy: 0.4841\n",
      "Epoch 19/200\n",
      "1422/1422 [==============================] - 4s 3ms/step - loss: 0.7504 - accuracy: 0.4468 - val_loss: 0.7158 - val_accuracy: 0.4789\n",
      "Epoch 20/200\n",
      "1422/1422 [==============================] - 4s 3ms/step - loss: 0.7495 - accuracy: 0.4463 - val_loss: 0.7145 - val_accuracy: 0.4841\n",
      "Epoch 21/200\n",
      "1422/1422 [==============================] - 4s 3ms/step - loss: 0.7487 - accuracy: 0.4444 - val_loss: 0.7141 - val_accuracy: 0.4784\n",
      "Epoch 22/200\n",
      "1422/1422 [==============================] - 5s 3ms/step - loss: 0.7470 - accuracy: 0.4453 - val_loss: 0.7133 - val_accuracy: 0.4669\n",
      "Epoch 23/200\n",
      "1422/1422 [==============================] - 4s 3ms/step - loss: 0.7470 - accuracy: 0.4411 - val_loss: 0.7127 - val_accuracy: 0.4632\n",
      "Epoch 24/200\n",
      "1422/1422 [==============================] - 4s 3ms/step - loss: 0.7463 - accuracy: 0.4407 - val_loss: 0.7130 - val_accuracy: 0.4701\n",
      "Epoch 25/200\n",
      "1422/1422 [==============================] - 4s 3ms/step - loss: 0.7459 - accuracy: 0.4430 - val_loss: 0.7122 - val_accuracy: 0.4680\n",
      "Epoch 26/200\n",
      "1422/1422 [==============================] - 4s 3ms/step - loss: 0.7461 - accuracy: 0.4431 - val_loss: 0.7126 - val_accuracy: 0.4687\n",
      "Epoch 27/200\n",
      "1422/1422 [==============================] - 4s 3ms/step - loss: 0.7460 - accuracy: 0.4418 - val_loss: 0.7127 - val_accuracy: 0.4695\n",
      "Epoch 28/200\n",
      "1422/1422 [==============================] - 4s 3ms/step - loss: 0.7452 - accuracy: 0.4367 - val_loss: 0.7124 - val_accuracy: 0.4634\n",
      "Epoch 29/200\n",
      "1422/1422 [==============================] - 5s 4ms/step - loss: 0.7453 - accuracy: 0.4384 - val_loss: 0.7131 - val_accuracy: 0.4657\n",
      "Epoch 30/200\n",
      "1422/1422 [==============================] - 5s 3ms/step - loss: 0.7453 - accuracy: 0.4374 - val_loss: 0.7145 - val_accuracy: 0.4617\n",
      "Epoch 31/200\n",
      "1422/1422 [==============================] - 4s 3ms/step - loss: 0.7452 - accuracy: 0.4377 - val_loss: 0.7127 - val_accuracy: 0.4651\n",
      "Epoch 32/200\n",
      "1422/1422 [==============================] - 4s 3ms/step - loss: 0.7439 - accuracy: 0.4413 - val_loss: 0.7127 - val_accuracy: 0.4596\n",
      "Epoch 33/200\n",
      "1422/1422 [==============================] - 4s 3ms/step - loss: 0.7432 - accuracy: 0.4403 - val_loss: 0.7110 - val_accuracy: 0.4655\n",
      "Epoch 34/200\n",
      "1422/1422 [==============================] - 4s 3ms/step - loss: 0.7442 - accuracy: 0.4456 - val_loss: 0.7118 - val_accuracy: 0.4568\n",
      "Epoch 35/200\n",
      "1422/1422 [==============================] - 4s 3ms/step - loss: 0.7432 - accuracy: 0.4424 - val_loss: 0.7124 - val_accuracy: 0.4648\n",
      "Epoch 36/200\n",
      "1422/1422 [==============================] - 5s 4ms/step - loss: 0.7438 - accuracy: 0.4442 - val_loss: 0.7124 - val_accuracy: 0.4615\n",
      "Epoch 37/200\n",
      "1422/1422 [==============================] - 4s 3ms/step - loss: 0.7436 - accuracy: 0.4427 - val_loss: 0.7119 - val_accuracy: 0.4624\n",
      "Epoch 38/200\n",
      "1422/1422 [==============================] - 4s 3ms/step - loss: 0.7431 - accuracy: 0.4425 - val_loss: 0.7135 - val_accuracy: 0.4624\n",
      "Epoch 39/200\n",
      "1422/1422 [==============================] - 4s 3ms/step - loss: 0.7434 - accuracy: 0.4442 - val_loss: 0.7126 - val_accuracy: 0.4633\n",
      "Epoch 40/200\n",
      "1422/1422 [==============================] - 4s 3ms/step - loss: 0.7439 - accuracy: 0.4442 - val_loss: 0.7122 - val_accuracy: 0.4598\n",
      "Epoch 41/200\n",
      "1422/1422 [==============================] - 4s 3ms/step - loss: 0.7430 - accuracy: 0.4497 - val_loss: 0.7114 - val_accuracy: 0.4696\n",
      "Epoch 42/200\n",
      "1422/1422 [==============================] - 4s 3ms/step - loss: 0.7425 - accuracy: 0.4498 - val_loss: 0.7116 - val_accuracy: 0.4682\n",
      "Epoch 43/200\n",
      "1422/1422 [==============================] - 4s 3ms/step - loss: 0.7422 - accuracy: 0.4516 - val_loss: 0.7108 - val_accuracy: 0.4640\n",
      "Epoch 44/200\n",
      "1422/1422 [==============================] - 5s 3ms/step - loss: 0.7418 - accuracy: 0.4509 - val_loss: 0.7093 - val_accuracy: 0.4602\n",
      "Epoch 45/200\n",
      "1422/1422 [==============================] - 4s 3ms/step - loss: 0.7422 - accuracy: 0.4484 - val_loss: 0.7095 - val_accuracy: 0.4653\n",
      "Epoch 46/200\n",
      "1422/1422 [==============================] - 4s 3ms/step - loss: 0.7432 - accuracy: 0.4514 - val_loss: 0.7113 - val_accuracy: 0.4649\n",
      "Epoch 47/200\n",
      "1422/1422 [==============================] - 4s 3ms/step - loss: 0.7422 - accuracy: 0.4506 - val_loss: 0.7099 - val_accuracy: 0.4631\n",
      "Epoch 48/200\n",
      "1422/1422 [==============================] - 4s 3ms/step - loss: 0.7420 - accuracy: 0.4493 - val_loss: 0.7105 - val_accuracy: 0.4605\n",
      "Epoch 49/200\n",
      "1422/1422 [==============================] - 4s 3ms/step - loss: 0.7416 - accuracy: 0.4494 - val_loss: 0.7102 - val_accuracy: 0.4590\n",
      "Epoch 50/200\n",
      "1422/1422 [==============================] - 4s 3ms/step - loss: 0.7421 - accuracy: 0.4495 - val_loss: 0.7105 - val_accuracy: 0.4573\n",
      "Epoch 51/200\n",
      "1422/1422 [==============================] - 5s 3ms/step - loss: 0.7421 - accuracy: 0.4484 - val_loss: 0.7085 - val_accuracy: 0.4628\n",
      "Epoch 52/200\n",
      "1422/1422 [==============================] - 4s 3ms/step - loss: 0.7417 - accuracy: 0.4475 - val_loss: 0.7085 - val_accuracy: 0.4644\n",
      "Epoch 53/200\n",
      "1422/1422 [==============================] - 4s 3ms/step - loss: 0.7416 - accuracy: 0.4481 - val_loss: 0.7111 - val_accuracy: 0.4672\n",
      "Epoch 54/200\n",
      "1422/1422 [==============================] - 4s 3ms/step - loss: 0.7416 - accuracy: 0.4488 - val_loss: 0.7101 - val_accuracy: 0.4573\n",
      "Epoch 55/200\n",
      "1422/1422 [==============================] - 4s 3ms/step - loss: 0.7421 - accuracy: 0.4474 - val_loss: 0.7106 - val_accuracy: 0.4533\n",
      "Epoch 56/200\n",
      "1422/1422 [==============================] - 4s 3ms/step - loss: 0.7414 - accuracy: 0.4495 - val_loss: 0.7107 - val_accuracy: 0.4611\n",
      "Epoch 57/200\n",
      "1422/1422 [==============================] - 4s 3ms/step - loss: 0.7412 - accuracy: 0.4495 - val_loss: 0.7111 - val_accuracy: 0.4604\n",
      "Epoch 58/200\n",
      "1422/1422 [==============================] - 4s 3ms/step - loss: 0.7413 - accuracy: 0.4476 - val_loss: 0.7103 - val_accuracy: 0.4576\n",
      "Epoch 59/200\n",
      "1422/1422 [==============================] - 4s 3ms/step - loss: 0.7414 - accuracy: 0.4479 - val_loss: 0.7091 - val_accuracy: 0.4597\n",
      "Epoch 60/200\n",
      "1422/1422 [==============================] - 4s 3ms/step - loss: 0.7418 - accuracy: 0.4488 - val_loss: 0.7105 - val_accuracy: 0.4571\n",
      "Epoch 61/200\n",
      "1422/1422 [==============================] - 4s 3ms/step - loss: 0.7414 - accuracy: 0.4478 - val_loss: 0.7095 - val_accuracy: 0.4595\n",
      "Restoring model weights from the end of the best epoch.\n",
      "Epoch 00061: early stopping\n"
     ]
    }
   ],
   "source": [
    "# And now to train it\n",
    "history = autoencoder.fit(ae_train, ae_train,\n",
    "                    epochs=200,\n",
    "                    batch_size=128,\n",
    "                    shuffle=True,\n",
    "                    validation_data=(ae_val_dropped, ae_val_dropped),\n",
    "                    verbose=1,\n",
    "                    callbacks=[early_stop]\n",
    "                    ).history"
   ]
  },
  {
   "cell_type": "code",
   "execution_count": 13,
   "id": "d3d7184d",
   "metadata": {
    "execution": {
     "iopub.execute_input": "2022-02-21T14:03:20.037406Z",
     "iopub.status.busy": "2022-02-21T14:03:20.036739Z",
     "iopub.status.idle": "2022-02-21T14:03:26.552885Z",
     "shell.execute_reply": "2022-02-21T14:03:26.553316Z"
    },
    "papermill": {
     "duration": 7.774614,
     "end_time": "2022-02-21T14:03:26.553509",
     "exception": false,
     "start_time": "2022-02-21T14:03:18.778895",
     "status": "completed"
    },
    "tags": []
   },
   "outputs": [
    {
     "data": {
      "text/plain": [
       "TensorShape([45480])"
      ]
     },
     "execution_count": 13,
     "metadata": {},
     "output_type": "execute_result"
    }
   ],
   "source": [
    "# Now that we have the autoencoder trained we need to start checking the data to see if we can spot the anomalies\n",
    "\n",
    "# first we predict the normal data\n",
    "normal_val = ae_val[ae_val.Class ==1]\n",
    "anom_val = ae_val[ae_val.Class !=1]\n",
    "\n",
    "normal_val.drop('Class', axis=1, inplace = True)\n",
    "anom_val.drop('Class', axis=1, inplace = True)\n",
    "\n",
    "reconstructions = autoencoder.predict(normal_val)\n",
    "\n",
    "train_loss = tf.keras.losses.MAE(reconstructions, normal_val)\n",
    "\n",
    "train_loss.shape"
   ]
  },
  {
   "cell_type": "code",
   "execution_count": 14,
   "id": "0b2c87bf",
   "metadata": {
    "execution": {
     "iopub.execute_input": "2022-02-21T14:03:29.081142Z",
     "iopub.status.busy": "2022-02-21T14:03:29.080201Z",
     "iopub.status.idle": "2022-02-21T14:03:29.154389Z",
     "shell.execute_reply": "2022-02-21T14:03:29.154963Z"
    },
    "papermill": {
     "duration": 1.372779,
     "end_time": "2022-02-21T14:03:29.155149",
     "exception": false,
     "start_time": "2022-02-21T14:03:27.782370",
     "status": "completed"
    },
    "tags": []
   },
   "outputs": [],
   "source": [
    "# then we predict the fraudulent data\n",
    "anom_reconstructions = autoencoder.predict(anom_val)\n",
    "anom_train_loss = keras.losses.mae(anom_reconstructions, anom_val)"
   ]
  },
  {
   "cell_type": "code",
   "execution_count": 15,
   "id": "430a1c8c",
   "metadata": {
    "execution": {
     "iopub.execute_input": "2022-02-21T14:03:31.606980Z",
     "iopub.status.busy": "2022-02-21T14:03:31.606020Z",
     "iopub.status.idle": "2022-02-21T14:03:31.644951Z",
     "shell.execute_reply": "2022-02-21T14:03:31.645438Z"
    },
    "papermill": {
     "duration": 1.27083,
     "end_time": "2022-02-21T14:03:31.645607",
     "exception": false,
     "start_time": "2022-02-21T14:03:30.374777",
     "status": "completed"
    },
    "tags": []
   },
   "outputs": [
    {
     "name": "stdout",
     "output_type": "stream",
     "text": [
      "Inlier mean = 0.4971, Inlier Standard Deviation = 0.2747, Threshold = 1.0466, Number of found outliers = 72, Number of outliers not found = 17\n",
      "Accuracy (for fraudulent data only) = 0.8090\n"
     ]
    }
   ],
   "source": [
    "# Lets experiment with thresholds. These can be done by eye but generally using the mean plus a multiple of the standard deviation has been explainability\n",
    "\n",
    "# Experimenting with different numbers show that 2 works pretty well here\n",
    "threshold_parameter = 2\n",
    "\n",
    "inlier_mean = np.mean(train_loss)\n",
    "inlier_std = np.std(train_loss)\n",
    "threshold = inlier_mean + (threshold_parameter * inlier_std)\n",
    "\n",
    "found_outliers = [x for x in anom_train_loss if x >= threshold]\n",
    "not_found_outliers = [x for x in anom_train_loss if x < threshold]\n",
    "\n",
    "print(f\"Inlier mean = {inlier_mean:.4f}, Inlier Standard Deviation = {inlier_std:.4f}, Threshold = {threshold:.4f}, Number of found outliers = {len(found_outliers)}, Number of outliers not found = {len(not_found_outliers)}\")\n",
    "\n",
    "accuracy = len(found_outliers) / (len(found_outliers) + len(not_found_outliers))\n",
    "\n",
    "print(f\"Accuracy (for fraudulent data only) = {accuracy:.4f}\")"
   ]
  },
  {
   "cell_type": "markdown",
   "id": "5f245368",
   "metadata": {
    "papermill": {
     "duration": 1.238794,
     "end_time": "2022-02-21T14:03:34.101794",
     "exception": false,
     "start_time": "2022-02-21T14:03:32.863000",
     "status": "completed"
    },
    "tags": []
   },
   "source": [
    "#### The reason autoencoders work is due to idea that good data will follow the set pattern but fraudulent data won't so if we loot at the losses of the good data we will find that they are all very similar"
   ]
  },
  {
   "cell_type": "code",
   "execution_count": 16,
   "id": "079e618d",
   "metadata": {
    "execution": {
     "iopub.execute_input": "2022-02-21T14:03:36.553152Z",
     "iopub.status.busy": "2022-02-21T14:03:36.551314Z",
     "iopub.status.idle": "2022-02-21T14:03:37.026260Z",
     "shell.execute_reply": "2022-02-21T14:03:37.025698Z"
    },
    "papermill": {
     "duration": 1.710924,
     "end_time": "2022-02-21T14:03:37.026410",
     "exception": false,
     "start_time": "2022-02-21T14:03:35.315486",
     "status": "completed"
    },
    "tags": []
   },
   "outputs": [
    {
     "data": {
      "image/png": "[encoded data removed]",
      "text/plain": [
       "<Figure size 432x288 with 1 Axes>"
      ]
     },
     "metadata": {
      "needs_background": "light"
     },
     "output_type": "display_data"
    }
   ],
   "source": [
    "import seaborn as sns\n",
    "\n",
    "sns.histplot(train_loss, bins=50, alpha=0.8).set_title('Distribution of normal data')\n",
    "plt.show()"
   ]
  },
  {
   "cell_type": "markdown",
   "id": "f416413d",
   "metadata": {
    "papermill": {
     "duration": 1.299013,
     "end_time": "2022-02-21T14:03:39.560867",
     "exception": false,
     "start_time": "2022-02-21T14:03:38.261854",
     "status": "completed"
    },
    "tags": []
   },
   "source": [
    "#### But the losses of the fraudulent data  are not"
   ]
  },
  {
   "cell_type": "code",
   "execution_count": 17,
   "id": "cca106f3",
   "metadata": {
    "execution": {
     "iopub.execute_input": "2022-02-21T14:03:42.135941Z",
     "iopub.status.busy": "2022-02-21T14:03:42.134675Z",
     "iopub.status.idle": "2022-02-21T14:03:42.417486Z",
     "shell.execute_reply": "2022-02-21T14:03:42.416802Z"
    },
    "papermill": {
     "duration": 1.62344,
     "end_time": "2022-02-21T14:03:42.417637",
     "exception": false,
     "start_time": "2022-02-21T14:03:40.794197",
     "status": "completed"
    },
    "tags": []
   },
   "outputs": [
    {
     "data": {
      "image/png": "[encoded data removed]",
      "text/plain": [
       "<Figure size 432x288 with 1 Axes>"
      ]
     },
     "metadata": {
      "needs_background": "light"
     },
     "output_type": "display_data"
    }
   ],
   "source": [
    "sns.histplot(anom_train_loss, bins=50, alpha=0.8).set_title('Distribution of Anomalous Data')\n",
    "plt.show()"
   ]
  },
  {
   "cell_type": "code",
   "execution_count": 18,
   "id": "c8e76fb3",
   "metadata": {
    "execution": {
     "iopub.execute_input": "2022-02-21T14:03:44.932813Z",
     "iopub.status.busy": "2022-02-21T14:03:44.932115Z",
     "iopub.status.idle": "2022-02-21T14:03:55.293557Z",
     "shell.execute_reply": "2022-02-21T14:03:55.294088Z"
    },
    "papermill": {
     "duration": 11.643366,
     "end_time": "2022-02-21T14:03:55.294276",
     "exception": false,
     "start_time": "2022-02-21T14:03:43.650910",
     "status": "completed"
    },
    "tags": []
   },
   "outputs": [
    {
     "name": "stdout",
     "output_type": "stream",
     "text": [
      "              precision    recall  f1-score   support\n",
      "\n",
      "          -1       0.04      0.87      0.08        98\n",
      "           1       1.00      0.97      0.98     56863\n",
      "\n",
      "    accuracy                           0.97     56961\n",
      "   macro avg       0.52      0.92      0.53     56961\n",
      "weighted avg       1.00      0.97      0.98     56961\n",
      "\n"
     ]
    },
    {
     "data": {
      "image/png": "[encoded data removed]",
      "text/plain": [
       "<Figure size 432x288 with 2 Axes>"
      ]
     },
     "metadata": {
      "needs_background": "light"
     },
     "output_type": "display_data"
    }
   ],
   "source": [
    "# So now lets put in the test data and see how it does on that\n",
    "\n",
    "test_reconstructions = autoencoder.predict(X_test)\n",
    "test_loss = keras.losses.mae(test_reconstructions,X_test)\n",
    "\n",
    "predictions = [1 if x < threshold else -1 for x in test_loss]\n",
    "\n",
    "cm = confusion_matrix(y_test, predictions)\n",
    "print(classification_report(y_test, predictions))\n",
    "\n",
    "disp = ConfusionMatrixDisplay(cm)\n",
    "disp.plot()\n",
    "plt.show()"
   ]
  },
  {
   "cell_type": "markdown",
   "id": "53674169",
   "metadata": {
    "papermill": {
     "duration": 1.241243,
     "end_time": "2022-02-21T14:03:57.780135",
     "exception": false,
     "start_time": "2022-02-21T14:03:56.538892",
     "status": "completed"
    },
    "tags": []
   },
   "source": [
    "# Conclusion\n",
    "\n",
    "This dataset was tricky for all of the models, even the best instances that did find most of the anomalies were not able to find all of them and did also pick out over a thousand points that were not anomalous. This shows both that further checks would be required (such as a phone call asking if you had just used your card) and that criminals are sometimes able to conduct activities that are indestinguishable from legitimate purchases.\n",
    "\n",
    "The autoencoder worked well overall as was expected from reputation within the field. The surprise was that it was equalled by the isolation forest, a much simplier and explainable method. The other methods used were not as accurate and, especially for the SVM, slower. This doesn't mean that they are not as good, just not right for this scenario."
   ]
  }
 ],
 "metadata": {
  "kernelspec": {
   "display_name": "Python 3",
   "language": "python",
   "name": "python3"
  },
  "language_info": {
   "codemirror_mode": {
    "name": "ipython",
    "version": 3
   },
   "file_extension": ".py",
   "mimetype": "text/x-python",
   "name": "python",
   "nbconvert_exporter": "python",
   "pygments_lexer": "ipython3",
   "version": "3.7.12"
  },
  "papermill": {
   "default_parameters": {},
   "duration": 6353.185198,
   "end_time": "2022-02-21T14:04:02.470801",
   "environment_variables": {},
   "exception": null,
   "input_path": "__notebook__.ipynb",
   "output_path": "__notebook__.ipynb",
   "parameters": {},
   "start_time": "2022-02-21T12:18:09.285603",
   "version": "2.3.3"
  }
 },
 "nbformat": 4,
 "nbformat_minor": 5
}
